{
 "cells": [
  {
   "cell_type": "code",
   "execution_count": 4,
   "id": "initial_id",
   "metadata": {
    "collapsed": true,
    "ExecuteTime": {
     "end_time": "2024-12-06T17:39:16.840108200Z",
     "start_time": "2024-12-06T17:39:16.009582800Z"
    }
   },
   "outputs": [],
   "source": [
    "import numpy as np\n",
    "import pandas as pd\n"
   ]
  },
  {
   "cell_type": "code",
   "outputs": [],
   "source": [
    "df_feature = pd.read_csv('../data/raw/df_hack_final.csv')\n",
    "df_test = pd.read_csv('../data/raw/test.csv')\n"
   ],
   "metadata": {
    "collapsed": false,
    "ExecuteTime": {
     "end_time": "2024-12-06T17:39:59.524738700Z",
     "start_time": "2024-12-06T17:39:59.280019100Z"
    }
   },
   "id": "36c4d7d8bc0515a2",
   "execution_count": 5
  },
  {
   "cell_type": "code",
   "outputs": [
    {
     "name": "stdout",
     "output_type": "stream",
     "text": [
      "<class 'pandas.core.frame.DataFrame'>\n",
      "RangeIndex: 6740 entries, 0 to 6739\n",
      "Data columns (total 41 columns):\n",
      " #   Column       Non-Null Count  Dtype  \n",
      "---  ------       --------------  -----  \n",
      " 0   MEAS_DT      6740 non-null   object \n",
      " 1   Ni_1.1C_min  0 non-null      float64\n",
      " 2   Ni_1.1C_max  0 non-null      float64\n",
      " 3   Cu_1.1C_min  0 non-null      float64\n",
      " 4   Cu_1.1C_max  0 non-null      float64\n",
      " 5   Ni_1.2C_min  0 non-null      float64\n",
      " 6   Ni_1.2C_max  0 non-null      float64\n",
      " 7   Cu_1.2C_min  0 non-null      float64\n",
      " 8   Cu_1.2C_max  0 non-null      float64\n",
      " 9   Cu_2.1T_min  0 non-null      float64\n",
      " 10  Cu_2.1T_max  0 non-null      float64\n",
      " 11  Cu_2.2T_min  0 non-null      float64\n",
      " 12  Cu_2.2T_max  0 non-null      float64\n",
      " 13  Cu_3.1T_min  0 non-null      float64\n",
      " 14  Cu_3.1T_max  0 non-null      float64\n",
      " 15  Cu_3.2T_min  0 non-null      float64\n",
      " 16  Cu_3.2T_max  0 non-null      float64\n",
      " 17  Ni_4.1T_min  0 non-null      float64\n",
      " 18  Ni_4.1T_max  0 non-null      float64\n",
      " 19  Ni_4.1C_min  0 non-null      float64\n",
      " 20  Ni_4.1C_max  0 non-null      float64\n",
      " 21  Ni_4.2T_min  0 non-null      float64\n",
      " 22  Ni_4.2T_max  0 non-null      float64\n",
      " 23  Ni_4.2C_min  0 non-null      float64\n",
      " 24  Ni_4.2C_max  0 non-null      float64\n",
      " 25  Ni_5.1T_min  0 non-null      float64\n",
      " 26  Ni_5.1T_max  0 non-null      float64\n",
      " 27  Ni_5.1C_min  0 non-null      float64\n",
      " 28  Ni_5.1C_max  0 non-null      float64\n",
      " 29  Ni_5.2T_min  0 non-null      float64\n",
      " 30  Ni_5.2T_max  0 non-null      float64\n",
      " 31  Ni_5.2C_min  0 non-null      float64\n",
      " 32  Ni_5.2C_max  0 non-null      float64\n",
      " 33  Ni_6.1T_min  0 non-null      float64\n",
      " 34  Ni_6.1T_max  0 non-null      float64\n",
      " 35  Ni_6.1C_min  0 non-null      float64\n",
      " 36  Ni_6.1C_max  0 non-null      float64\n",
      " 37  Ni_6.2T_min  0 non-null      float64\n",
      " 38  Ni_6.2T_max  0 non-null      float64\n",
      " 39  Ni_6.2C_min  0 non-null      float64\n",
      " 40  Ni_6.2C_max  0 non-null      float64\n",
      "dtypes: float64(40), object(1)\n",
      "memory usage: 2.1+ MB\n"
     ]
    }
   ],
   "source": [
    "df_test.info()"
   ],
   "metadata": {
    "collapsed": false,
    "ExecuteTime": {
     "end_time": "2024-12-06T17:40:05.084772200Z",
     "start_time": "2024-12-06T17:40:05.071703Z"
    }
   },
   "id": "70a76781e9172134",
   "execution_count": 6
  },
  {
   "cell_type": "code",
   "outputs": [
    {
     "name": "stdout",
     "output_type": "stream",
     "text": [
      "<class 'pandas.core.frame.DataFrame'>\n",
      "RangeIndex: 30336 entries, 0 to 30335\n",
      "Columns: 130 entries, MEAS_DT to Ni_rec\n",
      "dtypes: float64(129), object(1)\n",
      "memory usage: 30.1+ MB\n"
     ]
    }
   ],
   "source": [
    "df_feature.info()"
   ],
   "metadata": {
    "collapsed": false,
    "ExecuteTime": {
     "end_time": "2024-12-06T17:43:27.358697200Z",
     "start_time": "2024-12-06T17:43:27.354174Z"
    }
   },
   "id": "8419b450eed02b32",
   "execution_count": 9
  },
  {
   "cell_type": "code",
   "outputs": [
    {
     "data": {
      "text/plain": "           Cu_oreth      Ni_oreth      Ore_mass        Mass_1        Mass_2  \\\ncount  26213.000000  26213.000000  30336.000000  30336.000000  30336.000000   \nmean       2.712405      1.685584   1213.996028   1346.755948    789.375929   \nstd        0.284495      0.163395    304.202121    272.748762    153.755873   \nmin        1.654600      1.141700      0.000000     -0.258293     -0.167950   \n25%        2.523700      1.574000   1133.500000   1310.454010    762.188248   \n50%        2.694400      1.685100   1274.500000   1400.961060    817.151642   \n75%        2.894800      1.792700   1395.500000   1475.273743    864.989029   \nmax        4.048000      2.617300   2000.000000   2089.517578   1221.758057   \n\n             Dens_4        Mass_4         Vol_4         Cu_4F         Ni_4F  \\\ncount  30336.000000  30336.000000  30336.000000  26083.000000  26083.000000   \nmean       1.386676    811.542840   1520.387530      0.477034      2.841660   \nstd        0.072671    147.976016    254.858332      0.176787      0.196178   \nmin        0.000000     -0.083749      0.000000      0.100100      0.680600   \n25%        1.378594    791.388550   1523.531250      0.396900      2.713750   \n50%        1.398115    836.229218   1562.812500      0.468100      2.840300   \n75%        1.415396    875.025543   1595.750000      0.541200      2.967500   \nmax        1.651951   1303.474609   2028.375000      5.205700      3.668900   \n\n       ...   Cu_3.1T_max   Cu_3.1T_min      FM_3.2_A   Cu_3.2C_max  \\\ncount  ...  30335.000000  30335.000000  30335.000000  30335.000000   \nmean   ...      1.627824      0.818042      0.331235     15.653601   \nstd    ...      0.328567      0.170884      0.470665      0.901482   \nmin    ...      1.000000      0.600000      0.000000     14.000000   \n25%    ...      1.400000      0.600000      0.000000     15.000000   \n50%    ...      1.800000      0.800000      0.000000     15.500000   \n75%    ...      1.800000      0.900000      1.000000     16.500000   \nmax    ...      2.000000      1.200000      1.000000     17.000000   \n\n        Cu_3.2C_min   Ni_3.2C_max  Ni_3.2C_min   Cu_3.2T_max   Cu_3.2T_min  \\\ncount  30335.000000  3.033500e+04      30335.0  30335.000000  30335.000000   \nmean      13.036163  3.700000e+00          3.5      1.576072      0.863170   \nstd        0.573167  8.881931e-16          0.0      0.236993      0.166731   \nmin       12.000000  3.700000e+00          3.5      1.000000      0.600000   \n25%       13.000000  3.700000e+00          3.5      1.400000      0.700000   \n50%       13.000000  3.700000e+00          3.5      1.600000      0.900000   \n75%       13.000000  3.700000e+00          3.5      1.800000      1.000000   \nmax       15.000000  3.700000e+00          3.5      1.800000      1.300000   \n\n             Ni_rec  \ncount  27759.000000  \nmean       0.947898  \nstd        0.020704  \nmin        0.594336  \n25%        0.933853  \n50%        0.943993  \n75%        0.966216  \nmax        1.000000  \n\n[8 rows x 129 columns]",
      "text/html": "<div>\n<style scoped>\n    .dataframe tbody tr th:only-of-type {\n        vertical-align: middle;\n    }\n\n    .dataframe tbody tr th {\n        vertical-align: top;\n    }\n\n    .dataframe thead th {\n        text-align: right;\n    }\n</style>\n<table border=\"1\" class=\"dataframe\">\n  <thead>\n    <tr style=\"text-align: right;\">\n      <th></th>\n      <th>Cu_oreth</th>\n      <th>Ni_oreth</th>\n      <th>Ore_mass</th>\n      <th>Mass_1</th>\n      <th>Mass_2</th>\n      <th>Dens_4</th>\n      <th>Mass_4</th>\n      <th>Vol_4</th>\n      <th>Cu_4F</th>\n      <th>Ni_4F</th>\n      <th>...</th>\n      <th>Cu_3.1T_max</th>\n      <th>Cu_3.1T_min</th>\n      <th>FM_3.2_A</th>\n      <th>Cu_3.2C_max</th>\n      <th>Cu_3.2C_min</th>\n      <th>Ni_3.2C_max</th>\n      <th>Ni_3.2C_min</th>\n      <th>Cu_3.2T_max</th>\n      <th>Cu_3.2T_min</th>\n      <th>Ni_rec</th>\n    </tr>\n  </thead>\n  <tbody>\n    <tr>\n      <th>count</th>\n      <td>26213.000000</td>\n      <td>26213.000000</td>\n      <td>30336.000000</td>\n      <td>30336.000000</td>\n      <td>30336.000000</td>\n      <td>30336.000000</td>\n      <td>30336.000000</td>\n      <td>30336.000000</td>\n      <td>26083.000000</td>\n      <td>26083.000000</td>\n      <td>...</td>\n      <td>30335.000000</td>\n      <td>30335.000000</td>\n      <td>30335.000000</td>\n      <td>30335.000000</td>\n      <td>30335.000000</td>\n      <td>3.033500e+04</td>\n      <td>30335.0</td>\n      <td>30335.000000</td>\n      <td>30335.000000</td>\n      <td>27759.000000</td>\n    </tr>\n    <tr>\n      <th>mean</th>\n      <td>2.712405</td>\n      <td>1.685584</td>\n      <td>1213.996028</td>\n      <td>1346.755948</td>\n      <td>789.375929</td>\n      <td>1.386676</td>\n      <td>811.542840</td>\n      <td>1520.387530</td>\n      <td>0.477034</td>\n      <td>2.841660</td>\n      <td>...</td>\n      <td>1.627824</td>\n      <td>0.818042</td>\n      <td>0.331235</td>\n      <td>15.653601</td>\n      <td>13.036163</td>\n      <td>3.700000e+00</td>\n      <td>3.5</td>\n      <td>1.576072</td>\n      <td>0.863170</td>\n      <td>0.947898</td>\n    </tr>\n    <tr>\n      <th>std</th>\n      <td>0.284495</td>\n      <td>0.163395</td>\n      <td>304.202121</td>\n      <td>272.748762</td>\n      <td>153.755873</td>\n      <td>0.072671</td>\n      <td>147.976016</td>\n      <td>254.858332</td>\n      <td>0.176787</td>\n      <td>0.196178</td>\n      <td>...</td>\n      <td>0.328567</td>\n      <td>0.170884</td>\n      <td>0.470665</td>\n      <td>0.901482</td>\n      <td>0.573167</td>\n      <td>8.881931e-16</td>\n      <td>0.0</td>\n      <td>0.236993</td>\n      <td>0.166731</td>\n      <td>0.020704</td>\n    </tr>\n    <tr>\n      <th>min</th>\n      <td>1.654600</td>\n      <td>1.141700</td>\n      <td>0.000000</td>\n      <td>-0.258293</td>\n      <td>-0.167950</td>\n      <td>0.000000</td>\n      <td>-0.083749</td>\n      <td>0.000000</td>\n      <td>0.100100</td>\n      <td>0.680600</td>\n      <td>...</td>\n      <td>1.000000</td>\n      <td>0.600000</td>\n      <td>0.000000</td>\n      <td>14.000000</td>\n      <td>12.000000</td>\n      <td>3.700000e+00</td>\n      <td>3.5</td>\n      <td>1.000000</td>\n      <td>0.600000</td>\n      <td>0.594336</td>\n    </tr>\n    <tr>\n      <th>25%</th>\n      <td>2.523700</td>\n      <td>1.574000</td>\n      <td>1133.500000</td>\n      <td>1310.454010</td>\n      <td>762.188248</td>\n      <td>1.378594</td>\n      <td>791.388550</td>\n      <td>1523.531250</td>\n      <td>0.396900</td>\n      <td>2.713750</td>\n      <td>...</td>\n      <td>1.400000</td>\n      <td>0.600000</td>\n      <td>0.000000</td>\n      <td>15.000000</td>\n      <td>13.000000</td>\n      <td>3.700000e+00</td>\n      <td>3.5</td>\n      <td>1.400000</td>\n      <td>0.700000</td>\n      <td>0.933853</td>\n    </tr>\n    <tr>\n      <th>50%</th>\n      <td>2.694400</td>\n      <td>1.685100</td>\n      <td>1274.500000</td>\n      <td>1400.961060</td>\n      <td>817.151642</td>\n      <td>1.398115</td>\n      <td>836.229218</td>\n      <td>1562.812500</td>\n      <td>0.468100</td>\n      <td>2.840300</td>\n      <td>...</td>\n      <td>1.800000</td>\n      <td>0.800000</td>\n      <td>0.000000</td>\n      <td>15.500000</td>\n      <td>13.000000</td>\n      <td>3.700000e+00</td>\n      <td>3.5</td>\n      <td>1.600000</td>\n      <td>0.900000</td>\n      <td>0.943993</td>\n    </tr>\n    <tr>\n      <th>75%</th>\n      <td>2.894800</td>\n      <td>1.792700</td>\n      <td>1395.500000</td>\n      <td>1475.273743</td>\n      <td>864.989029</td>\n      <td>1.415396</td>\n      <td>875.025543</td>\n      <td>1595.750000</td>\n      <td>0.541200</td>\n      <td>2.967500</td>\n      <td>...</td>\n      <td>1.800000</td>\n      <td>0.900000</td>\n      <td>1.000000</td>\n      <td>16.500000</td>\n      <td>13.000000</td>\n      <td>3.700000e+00</td>\n      <td>3.5</td>\n      <td>1.800000</td>\n      <td>1.000000</td>\n      <td>0.966216</td>\n    </tr>\n    <tr>\n      <th>max</th>\n      <td>4.048000</td>\n      <td>2.617300</td>\n      <td>2000.000000</td>\n      <td>2089.517578</td>\n      <td>1221.758057</td>\n      <td>1.651951</td>\n      <td>1303.474609</td>\n      <td>2028.375000</td>\n      <td>5.205700</td>\n      <td>3.668900</td>\n      <td>...</td>\n      <td>2.000000</td>\n      <td>1.200000</td>\n      <td>1.000000</td>\n      <td>17.000000</td>\n      <td>15.000000</td>\n      <td>3.700000e+00</td>\n      <td>3.5</td>\n      <td>1.800000</td>\n      <td>1.300000</td>\n      <td>1.000000</td>\n    </tr>\n  </tbody>\n</table>\n<p>8 rows × 129 columns</p>\n</div>"
     },
     "execution_count": 63,
     "metadata": {},
     "output_type": "execute_result"
    }
   ],
   "source": [
    "df_feature.describe()"
   ],
   "metadata": {
    "collapsed": false,
    "ExecuteTime": {
     "end_time": "2024-12-06T18:32:22.020296600Z",
     "start_time": "2024-12-06T18:32:21.832352900Z"
    }
   },
   "id": "5b2548ba0e05f1a0",
   "execution_count": 63
  },
  {
   "cell_type": "code",
   "outputs": [
    {
     "data": {
      "text/plain": "                   MEAS_DT  Cu_oreth  Ni_oreth  Ore_mass       Mass_1  \\\n0      2024-01-01 00:00:00    2.6097    1.5313    1096.5  1240.597656   \n1      2024-01-01 00:15:00    2.5548    1.4842    1123.0  1205.422363   \n2      2024-01-01 00:30:00    2.5109    1.4355     840.0  1188.762573   \n3      2024-01-01 00:45:00    2.4765    1.3852     824.0  1151.888672   \n4      2024-01-01 01:00:00    2.3585    1.3368       0.0  1104.101318   \n...                    ...       ...       ...       ...          ...   \n30331  2024-11-11 22:45:00    2.7133    1.4200    1231.0  1377.498413   \n30332  2024-11-11 23:00:00    2.7582    1.5234    1149.5  1412.641235   \n30333  2024-11-11 23:15:00    2.7487    1.5030    1210.5  1365.101562   \n30334  2024-11-11 23:30:00    2.7067    1.5257    1389.5  1382.615723   \n30335  2024-11-11 23:45:00    2.7335    1.5712    1370.0  1453.007324   \n\n           Mass_2    Dens_4      Mass_4       Vol_4   Cu_4F  ...  Cu_3.1T_max  \\\n0      692.090942  1.342155  711.999023  1548.71875  0.6232  ...          NaN   \n1      693.616394  1.339809  710.697815  1556.56250  0.6292  ...          1.0   \n2      698.350586  1.339792  707.198547  1548.09375  0.5941  ...          1.0   \n3      714.678101  1.342392  707.865540  1538.87500  0.6682  ...          1.0   \n4      730.190674  1.337608  700.935059  1545.18750  0.6489  ...          1.0   \n...           ...       ...         ...         ...     ...  ...          ...   \n30331  766.228027  1.341972  707.754150  1540.31250  0.4243  ...          1.8   \n30332  769.619324  1.342853  709.036865  1538.21875  0.4424  ...          1.8   \n30333  785.184998  1.346513  718.652710  1543.53125  0.4351  ...          1.8   \n30334  788.089050  1.346020  716.409607  1540.90625  0.4379  ...          1.8   \n30335  786.615051  1.347941  716.809204  1532.50000  0.4174  ...          1.8   \n\n       Cu_3.1T_min  FM_3.2_A  Cu_3.2C_max  Cu_3.2C_min  Ni_3.2C_max  \\\n0              NaN       NaN          NaN          NaN          NaN   \n1              0.8       0.0         14.0         12.0          3.7   \n2              0.8       0.0         14.0         12.0          3.7   \n3              0.8       0.0         14.0         12.0          3.7   \n4              0.8       0.0         14.0         12.0          3.7   \n...            ...       ...          ...          ...          ...   \n30331          0.8       1.0         16.5         13.0          3.7   \n30332          0.8       1.0         16.5         13.0          3.7   \n30333          0.8       1.0         16.5         13.0          3.7   \n30334          0.8       1.0         16.5         13.0          3.7   \n30335          0.8       1.0         16.5         13.0          3.7   \n\n       Ni_3.2C_min  Cu_3.2T_max  Cu_3.2T_min    Ni_rec  \n0              NaN          NaN          NaN       NaN  \n1              3.5          1.2         1.00       NaN  \n2              3.5          1.2         1.00  0.970170  \n3              3.5          1.2         1.00  0.968639  \n4              3.5          1.2         1.00  0.974205  \n...            ...          ...          ...       ...  \n30331          3.5          1.8         0.75  0.939579  \n30332          3.5          1.8         0.75  0.944490  \n30333          3.5          1.8         0.75  0.943409  \n30334          3.5          1.8         0.75  0.943442  \n30335          3.5          1.8         0.75  0.945416  \n\n[30336 rows x 130 columns]",
      "text/html": "<div>\n<style scoped>\n    .dataframe tbody tr th:only-of-type {\n        vertical-align: middle;\n    }\n\n    .dataframe tbody tr th {\n        vertical-align: top;\n    }\n\n    .dataframe thead th {\n        text-align: right;\n    }\n</style>\n<table border=\"1\" class=\"dataframe\">\n  <thead>\n    <tr style=\"text-align: right;\">\n      <th></th>\n      <th>MEAS_DT</th>\n      <th>Cu_oreth</th>\n      <th>Ni_oreth</th>\n      <th>Ore_mass</th>\n      <th>Mass_1</th>\n      <th>Mass_2</th>\n      <th>Dens_4</th>\n      <th>Mass_4</th>\n      <th>Vol_4</th>\n      <th>Cu_4F</th>\n      <th>...</th>\n      <th>Cu_3.1T_max</th>\n      <th>Cu_3.1T_min</th>\n      <th>FM_3.2_A</th>\n      <th>Cu_3.2C_max</th>\n      <th>Cu_3.2C_min</th>\n      <th>Ni_3.2C_max</th>\n      <th>Ni_3.2C_min</th>\n      <th>Cu_3.2T_max</th>\n      <th>Cu_3.2T_min</th>\n      <th>Ni_rec</th>\n    </tr>\n  </thead>\n  <tbody>\n    <tr>\n      <th>0</th>\n      <td>2024-01-01 00:00:00</td>\n      <td>2.6097</td>\n      <td>1.5313</td>\n      <td>1096.5</td>\n      <td>1240.597656</td>\n      <td>692.090942</td>\n      <td>1.342155</td>\n      <td>711.999023</td>\n      <td>1548.71875</td>\n      <td>0.6232</td>\n      <td>...</td>\n      <td>NaN</td>\n      <td>NaN</td>\n      <td>NaN</td>\n      <td>NaN</td>\n      <td>NaN</td>\n      <td>NaN</td>\n      <td>NaN</td>\n      <td>NaN</td>\n      <td>NaN</td>\n      <td>NaN</td>\n    </tr>\n    <tr>\n      <th>1</th>\n      <td>2024-01-01 00:15:00</td>\n      <td>2.5548</td>\n      <td>1.4842</td>\n      <td>1123.0</td>\n      <td>1205.422363</td>\n      <td>693.616394</td>\n      <td>1.339809</td>\n      <td>710.697815</td>\n      <td>1556.56250</td>\n      <td>0.6292</td>\n      <td>...</td>\n      <td>1.0</td>\n      <td>0.8</td>\n      <td>0.0</td>\n      <td>14.0</td>\n      <td>12.0</td>\n      <td>3.7</td>\n      <td>3.5</td>\n      <td>1.2</td>\n      <td>1.00</td>\n      <td>NaN</td>\n    </tr>\n    <tr>\n      <th>2</th>\n      <td>2024-01-01 00:30:00</td>\n      <td>2.5109</td>\n      <td>1.4355</td>\n      <td>840.0</td>\n      <td>1188.762573</td>\n      <td>698.350586</td>\n      <td>1.339792</td>\n      <td>707.198547</td>\n      <td>1548.09375</td>\n      <td>0.5941</td>\n      <td>...</td>\n      <td>1.0</td>\n      <td>0.8</td>\n      <td>0.0</td>\n      <td>14.0</td>\n      <td>12.0</td>\n      <td>3.7</td>\n      <td>3.5</td>\n      <td>1.2</td>\n      <td>1.00</td>\n      <td>0.970170</td>\n    </tr>\n    <tr>\n      <th>3</th>\n      <td>2024-01-01 00:45:00</td>\n      <td>2.4765</td>\n      <td>1.3852</td>\n      <td>824.0</td>\n      <td>1151.888672</td>\n      <td>714.678101</td>\n      <td>1.342392</td>\n      <td>707.865540</td>\n      <td>1538.87500</td>\n      <td>0.6682</td>\n      <td>...</td>\n      <td>1.0</td>\n      <td>0.8</td>\n      <td>0.0</td>\n      <td>14.0</td>\n      <td>12.0</td>\n      <td>3.7</td>\n      <td>3.5</td>\n      <td>1.2</td>\n      <td>1.00</td>\n      <td>0.968639</td>\n    </tr>\n    <tr>\n      <th>4</th>\n      <td>2024-01-01 01:00:00</td>\n      <td>2.3585</td>\n      <td>1.3368</td>\n      <td>0.0</td>\n      <td>1104.101318</td>\n      <td>730.190674</td>\n      <td>1.337608</td>\n      <td>700.935059</td>\n      <td>1545.18750</td>\n      <td>0.6489</td>\n      <td>...</td>\n      <td>1.0</td>\n      <td>0.8</td>\n      <td>0.0</td>\n      <td>14.0</td>\n      <td>12.0</td>\n      <td>3.7</td>\n      <td>3.5</td>\n      <td>1.2</td>\n      <td>1.00</td>\n      <td>0.974205</td>\n    </tr>\n    <tr>\n      <th>...</th>\n      <td>...</td>\n      <td>...</td>\n      <td>...</td>\n      <td>...</td>\n      <td>...</td>\n      <td>...</td>\n      <td>...</td>\n      <td>...</td>\n      <td>...</td>\n      <td>...</td>\n      <td>...</td>\n      <td>...</td>\n      <td>...</td>\n      <td>...</td>\n      <td>...</td>\n      <td>...</td>\n      <td>...</td>\n      <td>...</td>\n      <td>...</td>\n      <td>...</td>\n      <td>...</td>\n    </tr>\n    <tr>\n      <th>30331</th>\n      <td>2024-11-11 22:45:00</td>\n      <td>2.7133</td>\n      <td>1.4200</td>\n      <td>1231.0</td>\n      <td>1377.498413</td>\n      <td>766.228027</td>\n      <td>1.341972</td>\n      <td>707.754150</td>\n      <td>1540.31250</td>\n      <td>0.4243</td>\n      <td>...</td>\n      <td>1.8</td>\n      <td>0.8</td>\n      <td>1.0</td>\n      <td>16.5</td>\n      <td>13.0</td>\n      <td>3.7</td>\n      <td>3.5</td>\n      <td>1.8</td>\n      <td>0.75</td>\n      <td>0.939579</td>\n    </tr>\n    <tr>\n      <th>30332</th>\n      <td>2024-11-11 23:00:00</td>\n      <td>2.7582</td>\n      <td>1.5234</td>\n      <td>1149.5</td>\n      <td>1412.641235</td>\n      <td>769.619324</td>\n      <td>1.342853</td>\n      <td>709.036865</td>\n      <td>1538.21875</td>\n      <td>0.4424</td>\n      <td>...</td>\n      <td>1.8</td>\n      <td>0.8</td>\n      <td>1.0</td>\n      <td>16.5</td>\n      <td>13.0</td>\n      <td>3.7</td>\n      <td>3.5</td>\n      <td>1.8</td>\n      <td>0.75</td>\n      <td>0.944490</td>\n    </tr>\n    <tr>\n      <th>30333</th>\n      <td>2024-11-11 23:15:00</td>\n      <td>2.7487</td>\n      <td>1.5030</td>\n      <td>1210.5</td>\n      <td>1365.101562</td>\n      <td>785.184998</td>\n      <td>1.346513</td>\n      <td>718.652710</td>\n      <td>1543.53125</td>\n      <td>0.4351</td>\n      <td>...</td>\n      <td>1.8</td>\n      <td>0.8</td>\n      <td>1.0</td>\n      <td>16.5</td>\n      <td>13.0</td>\n      <td>3.7</td>\n      <td>3.5</td>\n      <td>1.8</td>\n      <td>0.75</td>\n      <td>0.943409</td>\n    </tr>\n    <tr>\n      <th>30334</th>\n      <td>2024-11-11 23:30:00</td>\n      <td>2.7067</td>\n      <td>1.5257</td>\n      <td>1389.5</td>\n      <td>1382.615723</td>\n      <td>788.089050</td>\n      <td>1.346020</td>\n      <td>716.409607</td>\n      <td>1540.90625</td>\n      <td>0.4379</td>\n      <td>...</td>\n      <td>1.8</td>\n      <td>0.8</td>\n      <td>1.0</td>\n      <td>16.5</td>\n      <td>13.0</td>\n      <td>3.7</td>\n      <td>3.5</td>\n      <td>1.8</td>\n      <td>0.75</td>\n      <td>0.943442</td>\n    </tr>\n    <tr>\n      <th>30335</th>\n      <td>2024-11-11 23:45:00</td>\n      <td>2.7335</td>\n      <td>1.5712</td>\n      <td>1370.0</td>\n      <td>1453.007324</td>\n      <td>786.615051</td>\n      <td>1.347941</td>\n      <td>716.809204</td>\n      <td>1532.50000</td>\n      <td>0.4174</td>\n      <td>...</td>\n      <td>1.8</td>\n      <td>0.8</td>\n      <td>1.0</td>\n      <td>16.5</td>\n      <td>13.0</td>\n      <td>3.7</td>\n      <td>3.5</td>\n      <td>1.8</td>\n      <td>0.75</td>\n      <td>0.945416</td>\n    </tr>\n  </tbody>\n</table>\n<p>30336 rows × 130 columns</p>\n</div>"
     },
     "execution_count": 64,
     "metadata": {},
     "output_type": "execute_result"
    }
   ],
   "source": [
    "df_feature"
   ],
   "metadata": {
    "collapsed": false,
    "ExecuteTime": {
     "end_time": "2024-12-06T18:32:31.240249Z",
     "start_time": "2024-12-06T18:32:31.161322400Z"
    }
   },
   "id": "9e65a1959361a05b",
   "execution_count": 64
  },
  {
   "cell_type": "code",
   "outputs": [
    {
     "data": {
      "text/plain": "                MEAS_DT  Cu_oreth  Ni_oreth  Ore_mass       Mass_1  \\\n0   2024-01-01 00:00:00    2.6097    1.5313    1096.5  1240.597656   \n1   2024-01-01 00:15:00    2.5548    1.4842    1123.0  1205.422363   \n2   2024-01-01 00:30:00    2.5109    1.4355     840.0  1188.762573   \n3   2024-01-01 00:45:00    2.4765    1.3852     824.0  1151.888672   \n4   2024-01-01 01:00:00    2.3585    1.3368       0.0  1104.101318   \n5   2024-01-01 01:15:00    2.3672    1.3081     781.0  1077.806885   \n6   2024-01-01 01:30:00    2.4030    1.3266     992.0  1056.742554   \n7   2024-01-01 01:45:00    2.4349    1.3109     762.0  1062.815918   \n8   2024-01-01 02:00:00    2.4853    1.3318     758.0  1024.760498   \n9   2024-01-01 02:15:00    2.6891    1.3554     982.5   997.303711   \n10  2024-01-01 02:30:00    2.8156    1.4058     863.5   998.389648   \n11  2024-01-01 02:45:00    2.8763    1.4337     910.0  1002.498657   \n12  2024-01-01 03:00:00    2.7986    1.4802     696.0  1019.996338   \n13  2024-01-01 03:15:00    2.8690    1.4625     834.0   988.902710   \n14  2024-01-01 03:30:00    2.6784    1.4137     790.0   963.819885   \n15  2024-01-01 03:45:00    2.7896    1.4119     885.0   979.679504   \n16  2024-01-01 04:00:00    2.6461    1.4326     990.0   993.802612   \n17  2024-01-01 04:15:00    2.6797    1.4565    1019.0  1013.355103   \n18  2024-01-01 04:30:00    2.7253    1.5263     816.0  1033.798218   \n19  2024-01-01 04:45:00    2.6951    1.5398     976.5  1052.494507   \n20  2024-01-01 05:00:00       NaN       NaN    1274.5  1076.489258   \n21  2024-01-01 05:15:00       NaN       NaN    1344.0  1129.998047   \n22  2024-01-01 05:30:00    2.7130    1.7057    1187.0  1219.081787   \n23  2024-01-01 05:45:00    2.7390    1.8099    1249.5  1244.846436   \n24  2024-01-01 06:00:00    2.7293    1.8334    1219.0  1262.882568   \n\n        Mass_2    Dens_4      Mass_4       Vol_4   Cu_4F  ...  Cu_3.1T_max  \\\n0   692.090942  1.342155  711.999023  1548.71875  0.6232  ...          NaN   \n1   693.616394  1.339809  710.697815  1556.56250  0.6292  ...          1.0   \n2   698.350586  1.339792  707.198547  1548.09375  0.5941  ...          1.0   \n3   714.678101  1.342392  707.865540  1538.87500  0.6682  ...          1.0   \n4   730.190674  1.337608  700.935059  1545.18750  0.6489  ...          1.0   \n5   738.083862  1.336420  697.026794  1542.00000  0.6562  ...          1.0   \n6   737.300171  1.333465  690.764038  1541.68750  0.6130  ...          1.0   \n7   732.009888  1.335131  696.399414  1546.25000  0.6308  ...          1.0   \n8   729.114380  1.338322  703.130371  1549.03125  0.6302  ...          1.0   \n9   714.279907  1.341102  707.086670  1542.78125  0.5926  ...          1.0   \n10  703.735840  1.346533  718.316040  1542.71875  0.6236  ...          1.0   \n11  696.633301  1.352503  725.346924  1531.43750  0.6077  ...          1.0   \n12  682.029541  1.352580  731.335022  1544.93750  0.5893  ...          1.0   \n13  671.063721  1.351452  734.633301  1556.81250  0.5244  ...          1.0   \n14  660.253967  1.353216  736.083740  1550.96875  0.5574  ...          1.0   \n15  648.549438  1.355667  735.784912  1539.65625  0.5422  ...          1.0   \n16  647.331238  1.360540  743.462769  1534.25000  0.4799  ...          1.0   \n17  665.022705  1.359080  745.914429  1544.00000  0.5168  ...          1.0   \n18  664.234253  1.350263  727.235840  1546.50000  0.4917  ...          1.0   \n19  650.980225  1.345728  720.029053  1550.00000  0.4904  ...          1.0   \n20  646.697876  1.338129  706.218811  1554.43750     NaN  ...          1.0   \n21  649.546143  1.331691  689.826355  1544.12500     NaN  ...          1.0   \n22  654.745239  1.325244  676.242554  1548.59375  0.4927  ...          1.0   \n23  654.107788  1.323300  670.358887  1544.50000  0.4892  ...          1.0   \n24  656.539185  1.321586  662.229187  1532.59375  0.5744  ...          1.0   \n\n    Cu_3.1T_min  FM_3.2_A  Cu_3.2C_max  Cu_3.2C_min  Ni_3.2C_max  Ni_3.2C_min  \\\n0           NaN       NaN          NaN          NaN          NaN          NaN   \n1           0.8       0.0         14.0         12.0          3.7          3.5   \n2           0.8       0.0         14.0         12.0          3.7          3.5   \n3           0.8       0.0         14.0         12.0          3.7          3.5   \n4           0.8       0.0         14.0         12.0          3.7          3.5   \n5           0.8       0.0         14.0         12.0          3.7          3.5   \n6           0.8       0.0         14.0         12.0          3.7          3.5   \n7           0.8       0.0         14.0         12.0          3.7          3.5   \n8           0.8       0.0         14.0         12.0          3.7          3.5   \n9           0.8       0.0         14.0         12.0          3.7          3.5   \n10          0.8       0.0         14.0         12.0          3.7          3.5   \n11          0.8       0.0         14.0         12.0          3.7          3.5   \n12          0.8       0.0         14.0         12.0          3.7          3.5   \n13          0.8       0.0         14.0         12.0          3.7          3.5   \n14          0.8       0.0         14.0         12.0          3.7          3.5   \n15          0.8       0.0         14.0         12.0          3.7          3.5   \n16          0.8       0.0         14.0         12.0          3.7          3.5   \n17          0.8       0.0         14.0         12.0          3.7          3.5   \n18          0.8       0.0         14.0         12.0          3.7          3.5   \n19          0.8       0.0         14.0         12.0          3.7          3.5   \n20          0.8       0.0         14.0         12.0          3.7          3.5   \n21          0.8       0.0         14.0         12.0          3.7          3.5   \n22          0.8       0.0         14.0         12.0          3.7          3.5   \n23          0.8       0.0         14.0         12.0          3.7          3.5   \n24          0.8       0.0         14.0         12.0          3.7          3.5   \n\n    Cu_3.2T_max  Cu_3.2T_min    Ni_rec  \n0           NaN          NaN       NaN  \n1           1.2          1.0       NaN  \n2           1.2          1.0  0.970170  \n3           1.2          1.0  0.968639  \n4           1.2          1.0  0.974205  \n5           1.2          1.0  0.973383  \n6           1.2          1.0  0.938520  \n7           1.2          1.0  0.936976  \n8           1.2          1.0  0.940958  \n9           1.2          1.0  0.973473  \n10          1.2          1.0  0.972986  \n11          1.2          1.0  0.973978  \n12          1.2          1.0  0.974888  \n13          1.2          1.0  0.945011  \n14          1.2          1.0  0.942388  \n15          1.2          1.0  0.948388  \n16          1.2          1.0  0.975459  \n17          1.2          1.0  0.976479  \n18          1.2          1.0  0.976953  \n19          1.2          1.0  0.978434  \n20          1.2          1.0  0.950478  \n21          1.2          1.0  0.979040  \n22          1.2          1.0  0.980073  \n23          1.2          1.0  0.959862  \n24          1.2          1.0  0.981938  \n\n[25 rows x 130 columns]",
      "text/html": "<div>\n<style scoped>\n    .dataframe tbody tr th:only-of-type {\n        vertical-align: middle;\n    }\n\n    .dataframe tbody tr th {\n        vertical-align: top;\n    }\n\n    .dataframe thead th {\n        text-align: right;\n    }\n</style>\n<table border=\"1\" class=\"dataframe\">\n  <thead>\n    <tr style=\"text-align: right;\">\n      <th></th>\n      <th>MEAS_DT</th>\n      <th>Cu_oreth</th>\n      <th>Ni_oreth</th>\n      <th>Ore_mass</th>\n      <th>Mass_1</th>\n      <th>Mass_2</th>\n      <th>Dens_4</th>\n      <th>Mass_4</th>\n      <th>Vol_4</th>\n      <th>Cu_4F</th>\n      <th>...</th>\n      <th>Cu_3.1T_max</th>\n      <th>Cu_3.1T_min</th>\n      <th>FM_3.2_A</th>\n      <th>Cu_3.2C_max</th>\n      <th>Cu_3.2C_min</th>\n      <th>Ni_3.2C_max</th>\n      <th>Ni_3.2C_min</th>\n      <th>Cu_3.2T_max</th>\n      <th>Cu_3.2T_min</th>\n      <th>Ni_rec</th>\n    </tr>\n  </thead>\n  <tbody>\n    <tr>\n      <th>0</th>\n      <td>2024-01-01 00:00:00</td>\n      <td>2.6097</td>\n      <td>1.5313</td>\n      <td>1096.5</td>\n      <td>1240.597656</td>\n      <td>692.090942</td>\n      <td>1.342155</td>\n      <td>711.999023</td>\n      <td>1548.71875</td>\n      <td>0.6232</td>\n      <td>...</td>\n      <td>NaN</td>\n      <td>NaN</td>\n      <td>NaN</td>\n      <td>NaN</td>\n      <td>NaN</td>\n      <td>NaN</td>\n      <td>NaN</td>\n      <td>NaN</td>\n      <td>NaN</td>\n      <td>NaN</td>\n    </tr>\n    <tr>\n      <th>1</th>\n      <td>2024-01-01 00:15:00</td>\n      <td>2.5548</td>\n      <td>1.4842</td>\n      <td>1123.0</td>\n      <td>1205.422363</td>\n      <td>693.616394</td>\n      <td>1.339809</td>\n      <td>710.697815</td>\n      <td>1556.56250</td>\n      <td>0.6292</td>\n      <td>...</td>\n      <td>1.0</td>\n      <td>0.8</td>\n      <td>0.0</td>\n      <td>14.0</td>\n      <td>12.0</td>\n      <td>3.7</td>\n      <td>3.5</td>\n      <td>1.2</td>\n      <td>1.0</td>\n      <td>NaN</td>\n    </tr>\n    <tr>\n      <th>2</th>\n      <td>2024-01-01 00:30:00</td>\n      <td>2.5109</td>\n      <td>1.4355</td>\n      <td>840.0</td>\n      <td>1188.762573</td>\n      <td>698.350586</td>\n      <td>1.339792</td>\n      <td>707.198547</td>\n      <td>1548.09375</td>\n      <td>0.5941</td>\n      <td>...</td>\n      <td>1.0</td>\n      <td>0.8</td>\n      <td>0.0</td>\n      <td>14.0</td>\n      <td>12.0</td>\n      <td>3.7</td>\n      <td>3.5</td>\n      <td>1.2</td>\n      <td>1.0</td>\n      <td>0.970170</td>\n    </tr>\n    <tr>\n      <th>3</th>\n      <td>2024-01-01 00:45:00</td>\n      <td>2.4765</td>\n      <td>1.3852</td>\n      <td>824.0</td>\n      <td>1151.888672</td>\n      <td>714.678101</td>\n      <td>1.342392</td>\n      <td>707.865540</td>\n      <td>1538.87500</td>\n      <td>0.6682</td>\n      <td>...</td>\n      <td>1.0</td>\n      <td>0.8</td>\n      <td>0.0</td>\n      <td>14.0</td>\n      <td>12.0</td>\n      <td>3.7</td>\n      <td>3.5</td>\n      <td>1.2</td>\n      <td>1.0</td>\n      <td>0.968639</td>\n    </tr>\n    <tr>\n      <th>4</th>\n      <td>2024-01-01 01:00:00</td>\n      <td>2.3585</td>\n      <td>1.3368</td>\n      <td>0.0</td>\n      <td>1104.101318</td>\n      <td>730.190674</td>\n      <td>1.337608</td>\n      <td>700.935059</td>\n      <td>1545.18750</td>\n      <td>0.6489</td>\n      <td>...</td>\n      <td>1.0</td>\n      <td>0.8</td>\n      <td>0.0</td>\n      <td>14.0</td>\n      <td>12.0</td>\n      <td>3.7</td>\n      <td>3.5</td>\n      <td>1.2</td>\n      <td>1.0</td>\n      <td>0.974205</td>\n    </tr>\n    <tr>\n      <th>5</th>\n      <td>2024-01-01 01:15:00</td>\n      <td>2.3672</td>\n      <td>1.3081</td>\n      <td>781.0</td>\n      <td>1077.806885</td>\n      <td>738.083862</td>\n      <td>1.336420</td>\n      <td>697.026794</td>\n      <td>1542.00000</td>\n      <td>0.6562</td>\n      <td>...</td>\n      <td>1.0</td>\n      <td>0.8</td>\n      <td>0.0</td>\n      <td>14.0</td>\n      <td>12.0</td>\n      <td>3.7</td>\n      <td>3.5</td>\n      <td>1.2</td>\n      <td>1.0</td>\n      <td>0.973383</td>\n    </tr>\n    <tr>\n      <th>6</th>\n      <td>2024-01-01 01:30:00</td>\n      <td>2.4030</td>\n      <td>1.3266</td>\n      <td>992.0</td>\n      <td>1056.742554</td>\n      <td>737.300171</td>\n      <td>1.333465</td>\n      <td>690.764038</td>\n      <td>1541.68750</td>\n      <td>0.6130</td>\n      <td>...</td>\n      <td>1.0</td>\n      <td>0.8</td>\n      <td>0.0</td>\n      <td>14.0</td>\n      <td>12.0</td>\n      <td>3.7</td>\n      <td>3.5</td>\n      <td>1.2</td>\n      <td>1.0</td>\n      <td>0.938520</td>\n    </tr>\n    <tr>\n      <th>7</th>\n      <td>2024-01-01 01:45:00</td>\n      <td>2.4349</td>\n      <td>1.3109</td>\n      <td>762.0</td>\n      <td>1062.815918</td>\n      <td>732.009888</td>\n      <td>1.335131</td>\n      <td>696.399414</td>\n      <td>1546.25000</td>\n      <td>0.6308</td>\n      <td>...</td>\n      <td>1.0</td>\n      <td>0.8</td>\n      <td>0.0</td>\n      <td>14.0</td>\n      <td>12.0</td>\n      <td>3.7</td>\n      <td>3.5</td>\n      <td>1.2</td>\n      <td>1.0</td>\n      <td>0.936976</td>\n    </tr>\n    <tr>\n      <th>8</th>\n      <td>2024-01-01 02:00:00</td>\n      <td>2.4853</td>\n      <td>1.3318</td>\n      <td>758.0</td>\n      <td>1024.760498</td>\n      <td>729.114380</td>\n      <td>1.338322</td>\n      <td>703.130371</td>\n      <td>1549.03125</td>\n      <td>0.6302</td>\n      <td>...</td>\n      <td>1.0</td>\n      <td>0.8</td>\n      <td>0.0</td>\n      <td>14.0</td>\n      <td>12.0</td>\n      <td>3.7</td>\n      <td>3.5</td>\n      <td>1.2</td>\n      <td>1.0</td>\n      <td>0.940958</td>\n    </tr>\n    <tr>\n      <th>9</th>\n      <td>2024-01-01 02:15:00</td>\n      <td>2.6891</td>\n      <td>1.3554</td>\n      <td>982.5</td>\n      <td>997.303711</td>\n      <td>714.279907</td>\n      <td>1.341102</td>\n      <td>707.086670</td>\n      <td>1542.78125</td>\n      <td>0.5926</td>\n      <td>...</td>\n      <td>1.0</td>\n      <td>0.8</td>\n      <td>0.0</td>\n      <td>14.0</td>\n      <td>12.0</td>\n      <td>3.7</td>\n      <td>3.5</td>\n      <td>1.2</td>\n      <td>1.0</td>\n      <td>0.973473</td>\n    </tr>\n    <tr>\n      <th>10</th>\n      <td>2024-01-01 02:30:00</td>\n      <td>2.8156</td>\n      <td>1.4058</td>\n      <td>863.5</td>\n      <td>998.389648</td>\n      <td>703.735840</td>\n      <td>1.346533</td>\n      <td>718.316040</td>\n      <td>1542.71875</td>\n      <td>0.6236</td>\n      <td>...</td>\n      <td>1.0</td>\n      <td>0.8</td>\n      <td>0.0</td>\n      <td>14.0</td>\n      <td>12.0</td>\n      <td>3.7</td>\n      <td>3.5</td>\n      <td>1.2</td>\n      <td>1.0</td>\n      <td>0.972986</td>\n    </tr>\n    <tr>\n      <th>11</th>\n      <td>2024-01-01 02:45:00</td>\n      <td>2.8763</td>\n      <td>1.4337</td>\n      <td>910.0</td>\n      <td>1002.498657</td>\n      <td>696.633301</td>\n      <td>1.352503</td>\n      <td>725.346924</td>\n      <td>1531.43750</td>\n      <td>0.6077</td>\n      <td>...</td>\n      <td>1.0</td>\n      <td>0.8</td>\n      <td>0.0</td>\n      <td>14.0</td>\n      <td>12.0</td>\n      <td>3.7</td>\n      <td>3.5</td>\n      <td>1.2</td>\n      <td>1.0</td>\n      <td>0.973978</td>\n    </tr>\n    <tr>\n      <th>12</th>\n      <td>2024-01-01 03:00:00</td>\n      <td>2.7986</td>\n      <td>1.4802</td>\n      <td>696.0</td>\n      <td>1019.996338</td>\n      <td>682.029541</td>\n      <td>1.352580</td>\n      <td>731.335022</td>\n      <td>1544.93750</td>\n      <td>0.5893</td>\n      <td>...</td>\n      <td>1.0</td>\n      <td>0.8</td>\n      <td>0.0</td>\n      <td>14.0</td>\n      <td>12.0</td>\n      <td>3.7</td>\n      <td>3.5</td>\n      <td>1.2</td>\n      <td>1.0</td>\n      <td>0.974888</td>\n    </tr>\n    <tr>\n      <th>13</th>\n      <td>2024-01-01 03:15:00</td>\n      <td>2.8690</td>\n      <td>1.4625</td>\n      <td>834.0</td>\n      <td>988.902710</td>\n      <td>671.063721</td>\n      <td>1.351452</td>\n      <td>734.633301</td>\n      <td>1556.81250</td>\n      <td>0.5244</td>\n      <td>...</td>\n      <td>1.0</td>\n      <td>0.8</td>\n      <td>0.0</td>\n      <td>14.0</td>\n      <td>12.0</td>\n      <td>3.7</td>\n      <td>3.5</td>\n      <td>1.2</td>\n      <td>1.0</td>\n      <td>0.945011</td>\n    </tr>\n    <tr>\n      <th>14</th>\n      <td>2024-01-01 03:30:00</td>\n      <td>2.6784</td>\n      <td>1.4137</td>\n      <td>790.0</td>\n      <td>963.819885</td>\n      <td>660.253967</td>\n      <td>1.353216</td>\n      <td>736.083740</td>\n      <td>1550.96875</td>\n      <td>0.5574</td>\n      <td>...</td>\n      <td>1.0</td>\n      <td>0.8</td>\n      <td>0.0</td>\n      <td>14.0</td>\n      <td>12.0</td>\n      <td>3.7</td>\n      <td>3.5</td>\n      <td>1.2</td>\n      <td>1.0</td>\n      <td>0.942388</td>\n    </tr>\n    <tr>\n      <th>15</th>\n      <td>2024-01-01 03:45:00</td>\n      <td>2.7896</td>\n      <td>1.4119</td>\n      <td>885.0</td>\n      <td>979.679504</td>\n      <td>648.549438</td>\n      <td>1.355667</td>\n      <td>735.784912</td>\n      <td>1539.65625</td>\n      <td>0.5422</td>\n      <td>...</td>\n      <td>1.0</td>\n      <td>0.8</td>\n      <td>0.0</td>\n      <td>14.0</td>\n      <td>12.0</td>\n      <td>3.7</td>\n      <td>3.5</td>\n      <td>1.2</td>\n      <td>1.0</td>\n      <td>0.948388</td>\n    </tr>\n    <tr>\n      <th>16</th>\n      <td>2024-01-01 04:00:00</td>\n      <td>2.6461</td>\n      <td>1.4326</td>\n      <td>990.0</td>\n      <td>993.802612</td>\n      <td>647.331238</td>\n      <td>1.360540</td>\n      <td>743.462769</td>\n      <td>1534.25000</td>\n      <td>0.4799</td>\n      <td>...</td>\n      <td>1.0</td>\n      <td>0.8</td>\n      <td>0.0</td>\n      <td>14.0</td>\n      <td>12.0</td>\n      <td>3.7</td>\n      <td>3.5</td>\n      <td>1.2</td>\n      <td>1.0</td>\n      <td>0.975459</td>\n    </tr>\n    <tr>\n      <th>17</th>\n      <td>2024-01-01 04:15:00</td>\n      <td>2.6797</td>\n      <td>1.4565</td>\n      <td>1019.0</td>\n      <td>1013.355103</td>\n      <td>665.022705</td>\n      <td>1.359080</td>\n      <td>745.914429</td>\n      <td>1544.00000</td>\n      <td>0.5168</td>\n      <td>...</td>\n      <td>1.0</td>\n      <td>0.8</td>\n      <td>0.0</td>\n      <td>14.0</td>\n      <td>12.0</td>\n      <td>3.7</td>\n      <td>3.5</td>\n      <td>1.2</td>\n      <td>1.0</td>\n      <td>0.976479</td>\n    </tr>\n    <tr>\n      <th>18</th>\n      <td>2024-01-01 04:30:00</td>\n      <td>2.7253</td>\n      <td>1.5263</td>\n      <td>816.0</td>\n      <td>1033.798218</td>\n      <td>664.234253</td>\n      <td>1.350263</td>\n      <td>727.235840</td>\n      <td>1546.50000</td>\n      <td>0.4917</td>\n      <td>...</td>\n      <td>1.0</td>\n      <td>0.8</td>\n      <td>0.0</td>\n      <td>14.0</td>\n      <td>12.0</td>\n      <td>3.7</td>\n      <td>3.5</td>\n      <td>1.2</td>\n      <td>1.0</td>\n      <td>0.976953</td>\n    </tr>\n    <tr>\n      <th>19</th>\n      <td>2024-01-01 04:45:00</td>\n      <td>2.6951</td>\n      <td>1.5398</td>\n      <td>976.5</td>\n      <td>1052.494507</td>\n      <td>650.980225</td>\n      <td>1.345728</td>\n      <td>720.029053</td>\n      <td>1550.00000</td>\n      <td>0.4904</td>\n      <td>...</td>\n      <td>1.0</td>\n      <td>0.8</td>\n      <td>0.0</td>\n      <td>14.0</td>\n      <td>12.0</td>\n      <td>3.7</td>\n      <td>3.5</td>\n      <td>1.2</td>\n      <td>1.0</td>\n      <td>0.978434</td>\n    </tr>\n    <tr>\n      <th>20</th>\n      <td>2024-01-01 05:00:00</td>\n      <td>NaN</td>\n      <td>NaN</td>\n      <td>1274.5</td>\n      <td>1076.489258</td>\n      <td>646.697876</td>\n      <td>1.338129</td>\n      <td>706.218811</td>\n      <td>1554.43750</td>\n      <td>NaN</td>\n      <td>...</td>\n      <td>1.0</td>\n      <td>0.8</td>\n      <td>0.0</td>\n      <td>14.0</td>\n      <td>12.0</td>\n      <td>3.7</td>\n      <td>3.5</td>\n      <td>1.2</td>\n      <td>1.0</td>\n      <td>0.950478</td>\n    </tr>\n    <tr>\n      <th>21</th>\n      <td>2024-01-01 05:15:00</td>\n      <td>NaN</td>\n      <td>NaN</td>\n      <td>1344.0</td>\n      <td>1129.998047</td>\n      <td>649.546143</td>\n      <td>1.331691</td>\n      <td>689.826355</td>\n      <td>1544.12500</td>\n      <td>NaN</td>\n      <td>...</td>\n      <td>1.0</td>\n      <td>0.8</td>\n      <td>0.0</td>\n      <td>14.0</td>\n      <td>12.0</td>\n      <td>3.7</td>\n      <td>3.5</td>\n      <td>1.2</td>\n      <td>1.0</td>\n      <td>0.979040</td>\n    </tr>\n    <tr>\n      <th>22</th>\n      <td>2024-01-01 05:30:00</td>\n      <td>2.7130</td>\n      <td>1.7057</td>\n      <td>1187.0</td>\n      <td>1219.081787</td>\n      <td>654.745239</td>\n      <td>1.325244</td>\n      <td>676.242554</td>\n      <td>1548.59375</td>\n      <td>0.4927</td>\n      <td>...</td>\n      <td>1.0</td>\n      <td>0.8</td>\n      <td>0.0</td>\n      <td>14.0</td>\n      <td>12.0</td>\n      <td>3.7</td>\n      <td>3.5</td>\n      <td>1.2</td>\n      <td>1.0</td>\n      <td>0.980073</td>\n    </tr>\n    <tr>\n      <th>23</th>\n      <td>2024-01-01 05:45:00</td>\n      <td>2.7390</td>\n      <td>1.8099</td>\n      <td>1249.5</td>\n      <td>1244.846436</td>\n      <td>654.107788</td>\n      <td>1.323300</td>\n      <td>670.358887</td>\n      <td>1544.50000</td>\n      <td>0.4892</td>\n      <td>...</td>\n      <td>1.0</td>\n      <td>0.8</td>\n      <td>0.0</td>\n      <td>14.0</td>\n      <td>12.0</td>\n      <td>3.7</td>\n      <td>3.5</td>\n      <td>1.2</td>\n      <td>1.0</td>\n      <td>0.959862</td>\n    </tr>\n    <tr>\n      <th>24</th>\n      <td>2024-01-01 06:00:00</td>\n      <td>2.7293</td>\n      <td>1.8334</td>\n      <td>1219.0</td>\n      <td>1262.882568</td>\n      <td>656.539185</td>\n      <td>1.321586</td>\n      <td>662.229187</td>\n      <td>1532.59375</td>\n      <td>0.5744</td>\n      <td>...</td>\n      <td>1.0</td>\n      <td>0.8</td>\n      <td>0.0</td>\n      <td>14.0</td>\n      <td>12.0</td>\n      <td>3.7</td>\n      <td>3.5</td>\n      <td>1.2</td>\n      <td>1.0</td>\n      <td>0.981938</td>\n    </tr>\n  </tbody>\n</table>\n<p>25 rows × 130 columns</p>\n</div>"
     },
     "execution_count": 11,
     "metadata": {},
     "output_type": "execute_result"
    }
   ],
   "source": [
    "df_feature.head(25)"
   ],
   "metadata": {
    "collapsed": false,
    "ExecuteTime": {
     "end_time": "2024-12-06T17:48:01.622380600Z",
     "start_time": "2024-12-06T17:48:01.598028200Z"
    }
   },
   "id": "6fb41eaf648cdf60",
   "execution_count": 11
  },
  {
   "cell_type": "code",
   "outputs": [],
   "source": [
    "import re"
   ],
   "metadata": {
    "collapsed": false,
    "ExecuteTime": {
     "end_time": "2024-12-06T17:53:43.272640300Z",
     "start_time": "2024-12-06T17:53:43.270122300Z"
    }
   },
   "id": "e75571b98e86bde",
   "execution_count": 12
  },
  {
   "cell_type": "code",
   "outputs": [],
   "source": [],
   "metadata": {
    "collapsed": false
   },
   "id": "de8d9e9ec02f54b2"
  },
  {
   "cell_type": "code",
   "outputs": [
    {
     "name": "stderr",
     "output_type": "stream",
     "text": [
      "<>:1: SyntaxWarning: invalid escape sequence '\\_'\n",
      "<>:1: SyntaxWarning: invalid escape sequence '\\_'\n",
      "C:\\Users\\UraSt\\AppData\\Local\\Temp\\ipykernel_11008\\1449338785.py:1: SyntaxWarning: invalid escape sequence '\\_'\n",
      "  mas_col = [col if re.match('Mass\\_\\d', col) else None for col in df_feature.columns.tolist()]\n"
     ]
    }
   ],
   "source": [
    "mas_col = [col if re.match('Mass\\_\\d', col) else None for col in df_feature.columns.tolist()]\n",
    "\n"
   ],
   "metadata": {
    "collapsed": false,
    "ExecuteTime": {
     "end_time": "2024-12-06T18:03:57.579556700Z",
     "start_time": "2024-12-06T18:03:57.570296700Z"
    }
   },
   "id": "54af4c201bd6dce7",
   "execution_count": 43
  },
  {
   "cell_type": "code",
   "outputs": [
    {
     "data": {
      "text/plain": "[None,\n None,\n None,\n None,\n 'Mass_1',\n 'Mass_2',\n None,\n 'Mass_4',\n None,\n None,\n None,\n None,\n None,\n None,\n None,\n None,\n None,\n None,\n None,\n None,\n None,\n None,\n None,\n None,\n None,\n None,\n 'Mass_5',\n None,\n None,\n None,\n None,\n None,\n None,\n None,\n None,\n None,\n None,\n None,\n None,\n None,\n None,\n None,\n None,\n None,\n 'Mass_6',\n None,\n None,\n None,\n None,\n None,\n None,\n None,\n None,\n None,\n None,\n None,\n None,\n None,\n None,\n None,\n None,\n None,\n None,\n None,\n None,\n None,\n None,\n None,\n None,\n None,\n None,\n None,\n None,\n None,\n None,\n None,\n None,\n None,\n None,\n None,\n None,\n None,\n None,\n None,\n None,\n None,\n None,\n None,\n None,\n None,\n 'Mass_3',\n None,\n None,\n None,\n None,\n None,\n None,\n None,\n None,\n None,\n None,\n None,\n None,\n None,\n None,\n None,\n None,\n None,\n None,\n None,\n None,\n None,\n None,\n None,\n None,\n None,\n None,\n None,\n None,\n None,\n None,\n None,\n None,\n None,\n None,\n None,\n None,\n None,\n None,\n None]"
     },
     "execution_count": 44,
     "metadata": {},
     "output_type": "execute_result"
    }
   ],
   "source": [
    "mas_col"
   ],
   "metadata": {
    "collapsed": false,
    "ExecuteTime": {
     "end_time": "2024-12-06T18:03:57.821515800Z",
     "start_time": "2024-12-06T18:03:57.818619300Z"
    }
   },
   "id": "c0af7d014df3976f",
   "execution_count": 44
  },
  {
   "cell_type": "code",
   "outputs": [],
   "source": [
    "mas_col = [x for x in mas_col if x is not None]\n",
    "\n"
   ],
   "metadata": {
    "collapsed": false,
    "ExecuteTime": {
     "end_time": "2024-12-06T18:04:10.125567900Z",
     "start_time": "2024-12-06T18:04:10.115024800Z"
    }
   },
   "id": "da56aee255ea2a03",
   "execution_count": 46
  },
  {
   "cell_type": "code",
   "outputs": [],
   "source": [
    "mas_col.append('MEAS_DT')"
   ],
   "metadata": {
    "collapsed": false,
    "ExecuteTime": {
     "end_time": "2024-12-06T18:04:46.537202200Z",
     "start_time": "2024-12-06T18:04:46.522114900Z"
    }
   },
   "id": "b9aeeb4ba8735e03",
   "execution_count": 49
  },
  {
   "cell_type": "code",
   "outputs": [
    {
     "data": {
      "text/plain": "            Mass_1      Mass_2      Mass_4      Mass_5      Mass_6  \\\n0      1240.597656  692.090942  711.999023  476.127625  219.958878   \n1      1205.422363  693.616394  710.697815  473.042267  275.753723   \n2      1188.762573  698.350586  707.198547  472.912659  263.925659   \n3      1151.888672  714.678101  707.865540  475.598877  250.852905   \n4      1104.101318  730.190674  700.935059  473.865509  256.771332   \n...            ...         ...         ...         ...         ...   \n30331  1377.498413  766.228027  707.754150  454.510406  264.184113   \n30332  1412.641235  769.619324  709.036865  458.966614  263.008942   \n30333  1365.101562  785.184998  718.652710  450.610626  262.766876   \n30334  1382.615723  788.089050  716.409607  462.473541  267.365662   \n30335  1453.007324  786.615051  716.809204  464.039459  268.454773   \n\n            Mass_3              MEAS_DT  \n0      1159.946120  2024-01-01 00:00:00  \n1      1189.409024  2024-01-01 00:15:00  \n2      1247.048316  2024-01-01 00:30:00  \n3      1323.884446  2024-01-01 00:45:00  \n4      1295.851179  2024-01-01 01:00:00  \n...            ...                  ...  \n30331  1268.937954  2024-11-11 22:45:00  \n30332  1287.233551  2024-11-11 23:00:00  \n30333  1307.212278  2024-11-11 23:15:00  \n30334  1283.388012  2024-11-11 23:30:00  \n30335  1307.453994  2024-11-11 23:45:00  \n\n[30336 rows x 7 columns]",
      "text/html": "<div>\n<style scoped>\n    .dataframe tbody tr th:only-of-type {\n        vertical-align: middle;\n    }\n\n    .dataframe tbody tr th {\n        vertical-align: top;\n    }\n\n    .dataframe thead th {\n        text-align: right;\n    }\n</style>\n<table border=\"1\" class=\"dataframe\">\n  <thead>\n    <tr style=\"text-align: right;\">\n      <th></th>\n      <th>Mass_1</th>\n      <th>Mass_2</th>\n      <th>Mass_4</th>\n      <th>Mass_5</th>\n      <th>Mass_6</th>\n      <th>Mass_3</th>\n      <th>MEAS_DT</th>\n    </tr>\n  </thead>\n  <tbody>\n    <tr>\n      <th>0</th>\n      <td>1240.597656</td>\n      <td>692.090942</td>\n      <td>711.999023</td>\n      <td>476.127625</td>\n      <td>219.958878</td>\n      <td>1159.946120</td>\n      <td>2024-01-01 00:00:00</td>\n    </tr>\n    <tr>\n      <th>1</th>\n      <td>1205.422363</td>\n      <td>693.616394</td>\n      <td>710.697815</td>\n      <td>473.042267</td>\n      <td>275.753723</td>\n      <td>1189.409024</td>\n      <td>2024-01-01 00:15:00</td>\n    </tr>\n    <tr>\n      <th>2</th>\n      <td>1188.762573</td>\n      <td>698.350586</td>\n      <td>707.198547</td>\n      <td>472.912659</td>\n      <td>263.925659</td>\n      <td>1247.048316</td>\n      <td>2024-01-01 00:30:00</td>\n    </tr>\n    <tr>\n      <th>3</th>\n      <td>1151.888672</td>\n      <td>714.678101</td>\n      <td>707.865540</td>\n      <td>475.598877</td>\n      <td>250.852905</td>\n      <td>1323.884446</td>\n      <td>2024-01-01 00:45:00</td>\n    </tr>\n    <tr>\n      <th>4</th>\n      <td>1104.101318</td>\n      <td>730.190674</td>\n      <td>700.935059</td>\n      <td>473.865509</td>\n      <td>256.771332</td>\n      <td>1295.851179</td>\n      <td>2024-01-01 01:00:00</td>\n    </tr>\n    <tr>\n      <th>...</th>\n      <td>...</td>\n      <td>...</td>\n      <td>...</td>\n      <td>...</td>\n      <td>...</td>\n      <td>...</td>\n      <td>...</td>\n    </tr>\n    <tr>\n      <th>30331</th>\n      <td>1377.498413</td>\n      <td>766.228027</td>\n      <td>707.754150</td>\n      <td>454.510406</td>\n      <td>264.184113</td>\n      <td>1268.937954</td>\n      <td>2024-11-11 22:45:00</td>\n    </tr>\n    <tr>\n      <th>30332</th>\n      <td>1412.641235</td>\n      <td>769.619324</td>\n      <td>709.036865</td>\n      <td>458.966614</td>\n      <td>263.008942</td>\n      <td>1287.233551</td>\n      <td>2024-11-11 23:00:00</td>\n    </tr>\n    <tr>\n      <th>30333</th>\n      <td>1365.101562</td>\n      <td>785.184998</td>\n      <td>718.652710</td>\n      <td>450.610626</td>\n      <td>262.766876</td>\n      <td>1307.212278</td>\n      <td>2024-11-11 23:15:00</td>\n    </tr>\n    <tr>\n      <th>30334</th>\n      <td>1382.615723</td>\n      <td>788.089050</td>\n      <td>716.409607</td>\n      <td>462.473541</td>\n      <td>267.365662</td>\n      <td>1283.388012</td>\n      <td>2024-11-11 23:30:00</td>\n    </tr>\n    <tr>\n      <th>30335</th>\n      <td>1453.007324</td>\n      <td>786.615051</td>\n      <td>716.809204</td>\n      <td>464.039459</td>\n      <td>268.454773</td>\n      <td>1307.453994</td>\n      <td>2024-11-11 23:45:00</td>\n    </tr>\n  </tbody>\n</table>\n<p>30336 rows × 7 columns</p>\n</div>"
     },
     "execution_count": 50,
     "metadata": {},
     "output_type": "execute_result"
    }
   ],
   "source": [
    "df_feature.loc[:,mas_col]"
   ],
   "metadata": {
    "collapsed": false,
    "ExecuteTime": {
     "end_time": "2024-12-06T18:04:46.921309600Z",
     "start_time": "2024-12-06T18:04:46.899976900Z"
    }
   },
   "id": "fab8c486b20544ce",
   "execution_count": 50
  },
  {
   "cell_type": "code",
   "outputs": [
    {
     "name": "stderr",
     "output_type": "stream",
     "text": [
      "<>:1: SyntaxWarning: invalid escape sequence '\\_'\n",
      "<>:1: SyntaxWarning: invalid escape sequence '\\_'\n",
      "<>:1: SyntaxWarning: invalid escape sequence '\\_'\n",
      "<>:1: SyntaxWarning: invalid escape sequence '\\D'\n",
      "<>:1: SyntaxWarning: invalid escape sequence '\\_'\n",
      "<>:1: SyntaxWarning: invalid escape sequence '\\_'\n",
      "<>:1: SyntaxWarning: invalid escape sequence '\\_'\n",
      "<>:1: SyntaxWarning: invalid escape sequence '\\D'\n",
      "C:\\Users\\UraSt\\AppData\\Local\\Temp\\ipykernel_11008\\4224042989.py:1: SyntaxWarning: invalid escape sequence '\\_'\n",
      "  name_list = ['Mass\\_\\d', 'Vol\\_\\d', 'Dens\\_\\d', '\\D\\D\\_\\d.\\d*']\n",
      "C:\\Users\\UraSt\\AppData\\Local\\Temp\\ipykernel_11008\\4224042989.py:1: SyntaxWarning: invalid escape sequence '\\_'\n",
      "  name_list = ['Mass\\_\\d', 'Vol\\_\\d', 'Dens\\_\\d', '\\D\\D\\_\\d.\\d*']\n",
      "C:\\Users\\UraSt\\AppData\\Local\\Temp\\ipykernel_11008\\4224042989.py:1: SyntaxWarning: invalid escape sequence '\\_'\n",
      "  name_list = ['Mass\\_\\d', 'Vol\\_\\d', 'Dens\\_\\d', '\\D\\D\\_\\d.\\d*']\n",
      "C:\\Users\\UraSt\\AppData\\Local\\Temp\\ipykernel_11008\\4224042989.py:1: SyntaxWarning: invalid escape sequence '\\D'\n",
      "  name_list = ['Mass\\_\\d', 'Vol\\_\\d', 'Dens\\_\\d', '\\D\\D\\_\\d.\\d*']\n"
     ]
    },
    {
     "data": {
      "text/plain": "[['Mass_1', 'Mass_2', 'Mass_4', 'Mass_5', 'Mass_6', 'Mass_3', 'MEAS_DT'],\n ['Vol_4', 'Vol_5', 'Vol_6', 'MEAS_DT'],\n ['Dens_4', 'Dens_5', 'Dens_6', 'Dens_3', 'Dens_1', 'Dens_2', 'MEAS_DT'],\n ['Cu_4F',\n  'Ni_4F',\n  'Ni_4.1C',\n  'Ni_4.1C_max',\n  'Ni_4.1C_min',\n  'Ni_4.1T',\n  'Ni_4.1T_max',\n  'Ni_4.1T_min',\n  'FM_4.1_A',\n  'Ni_4.2C',\n  'Ni_4.2C_max',\n  'Ni_4.2C_min',\n  'Ni_4.2T',\n  'Ni_4.2T_max',\n  'Ni_4.2T_min',\n  'FM_4.2_A',\n  'Ni_5F',\n  'Ni_5.1C',\n  'Ni_5.1C_max',\n  'Ni_5.1C_min',\n  'Ni_5.1T',\n  'Ni_5.1T_max',\n  'Ni_5.1T_min',\n  'FM_5.1_A',\n  'Ni_5.2C',\n  'Ni_5.2C_max',\n  'Ni_5.2C_min',\n  'Ni_5.2T',\n  'Ni_5.2T_max',\n  'Ni_5.2T_min',\n  'FM_5.2_A',\n  'Ni_6F',\n  'Ni_6.1C',\n  'Ni_6.1C_max',\n  'Ni_6.1C_min',\n  'Ni_6.1T',\n  'Ni_6.1T_max',\n  'Ni_6.1T_min',\n  'FM_6.1_A',\n  'Ni_6.2C',\n  'Ni_6.2C_max',\n  'Ni_6.2C_min',\n  'Ni_6.2T',\n  'Ni_6.2T_max',\n  'Ni_6.2T_min',\n  'FM_6.2_A',\n  'Cu_1.1C',\n  'Ni_1.1C',\n  'Cu_1.2C',\n  'Ni_1.2C',\n  'Cu_2F',\n  'Ni_2F',\n  'Cu_2.1C',\n  'Ni_2.1C',\n  'Cu_2.2C',\n  'Ni_2.2C',\n  'Cu_3F',\n  'Ni_3F',\n  'Cu_3.1C',\n  'Ni_3.1C',\n  'Cu_3.2C',\n  'Ni_3.2C',\n  'Cu_2.1T',\n  'Ni_2.1T',\n  'Cu_2.2T',\n  'Ni_2.2T',\n  'Cu_3.1T',\n  'Ni_3.1T',\n  'Cu_3.2T',\n  'Ni_3.2T',\n  'FM_1.1_A',\n  'Cu_1.1C_max',\n  'Cu_1.1C_min',\n  'Ni_1.1C_max',\n  'Ni_1.1C_min',\n  'Ni_1.1T_max',\n  'Ni_1.1T_min',\n  'FM_1.2_A',\n  'Cu_1.2C_max',\n  'Cu_1.2C_min',\n  'Ni_1.2C_max',\n  'Ni_1.2C_min',\n  'Ni_1.2T_max',\n  'Ni_1.2T_min',\n  'FM_2.1_A',\n  'Cu_2.1C_max',\n  'Cu_2.1C_min',\n  'Cu_2.1T_max',\n  'Cu_2.1T_min',\n  'FM_2.2_A',\n  'Cu_2.2C_max',\n  'Cu_2.2C_min',\n  'Cu_2.2T_max',\n  'Cu_2.2T_min',\n  'FM_3.1_A',\n  'Cu_3.1C_max',\n  'Cu_3.1C_min',\n  'Ni_3.1C_max',\n  'Ni_3.1C_min',\n  'Cu_3.1T_max',\n  'Cu_3.1T_min',\n  'FM_3.2_A',\n  'Cu_3.2C_max',\n  'Cu_3.2C_min',\n  'Ni_3.2C_max',\n  'Ni_3.2C_min',\n  'Cu_3.2T_max',\n  'Cu_3.2T_min',\n  'MEAS_DT']]"
     },
     "execution_count": 54,
     "metadata": {},
     "output_type": "execute_result"
    }
   ],
   "source": [
    "name_list = ['Mass\\_\\d', 'Vol\\_\\d', 'Dens\\_\\d', '\\D\\D\\_\\d.\\d*']\n",
    "\n",
    "col_list = []\n",
    "\n",
    "for name in name_list:\n",
    "    cols = [col if re.match(name, col) else None for col in df_feature.columns.tolist()]\n",
    "    cols = [x for x in cols if x is not None]\n",
    "    cols.append('MEAS_DT')\n",
    "    col_list.append(cols)\n",
    "    \n",
    "col_list"
   ],
   "metadata": {
    "collapsed": false,
    "ExecuteTime": {
     "end_time": "2024-12-06T18:16:21.812530700Z",
     "start_time": "2024-12-06T18:16:21.809272900Z"
    }
   },
   "id": "fa0db174ddb3777e",
   "execution_count": 54
  },
  {
   "cell_type": "code",
   "outputs": [
    {
     "data": {
      "text/plain": "['Cu_4F',\n 'Ni_4F',\n 'Ni_4.1C',\n 'Ni_4.1C_max',\n 'Ni_4.1C_min',\n 'Ni_4.1T',\n 'Ni_4.1T_max',\n 'Ni_4.1T_min',\n 'FM_4.1_A',\n 'Ni_4.2C',\n 'Ni_4.2C_max',\n 'Ni_4.2C_min',\n 'Ni_4.2T',\n 'Ni_4.2T_max',\n 'Ni_4.2T_min',\n 'FM_4.2_A',\n 'Ni_5F',\n 'Ni_5.1C',\n 'Ni_5.1C_max',\n 'Ni_5.1C_min',\n 'Ni_5.1T',\n 'Ni_5.1T_max',\n 'Ni_5.1T_min',\n 'FM_5.1_A',\n 'Ni_5.2C',\n 'Ni_5.2C_max',\n 'Ni_5.2C_min',\n 'Ni_5.2T',\n 'Ni_5.2T_max',\n 'Ni_5.2T_min',\n 'FM_5.2_A',\n 'Ni_6F',\n 'Ni_6.1C',\n 'Ni_6.1C_max',\n 'Ni_6.1C_min',\n 'Ni_6.1T',\n 'Ni_6.1T_max',\n 'Ni_6.1T_min',\n 'FM_6.1_A',\n 'Ni_6.2C',\n 'Ni_6.2C_max',\n 'Ni_6.2C_min',\n 'Ni_6.2T',\n 'Ni_6.2T_max',\n 'Ni_6.2T_min',\n 'FM_6.2_A',\n 'Cu_1.1C',\n 'Ni_1.1C',\n 'Cu_1.2C',\n 'Ni_1.2C',\n 'Cu_2F',\n 'Ni_2F',\n 'Cu_2.1C',\n 'Ni_2.1C',\n 'Cu_2.2C',\n 'Ni_2.2C',\n 'Cu_3F',\n 'Ni_3F',\n 'Cu_3.1C',\n 'Ni_3.1C',\n 'Cu_3.2C',\n 'Ni_3.2C',\n 'Cu_2.1T',\n 'Ni_2.1T',\n 'Cu_2.2T',\n 'Ni_2.2T',\n 'Cu_3.1T',\n 'Ni_3.1T',\n 'Cu_3.2T',\n 'Ni_3.2T',\n 'FM_1.1_A',\n 'Cu_1.1C_max',\n 'Cu_1.1C_min',\n 'Ni_1.1C_max',\n 'Ni_1.1C_min',\n 'Ni_1.1T_max',\n 'Ni_1.1T_min',\n 'FM_1.2_A',\n 'Cu_1.2C_max',\n 'Cu_1.2C_min',\n 'Ni_1.2C_max',\n 'Ni_1.2C_min',\n 'Ni_1.2T_max',\n 'Ni_1.2T_min',\n 'FM_2.1_A',\n 'Cu_2.1C_max',\n 'Cu_2.1C_min',\n 'Cu_2.1T_max',\n 'Cu_2.1T_min',\n 'FM_2.2_A',\n 'Cu_2.2C_max',\n 'Cu_2.2C_min',\n 'Cu_2.2T_max',\n 'Cu_2.2T_min',\n 'FM_3.1_A',\n 'Cu_3.1C_max',\n 'Cu_3.1C_min',\n 'Ni_3.1C_max',\n 'Ni_3.1C_min',\n 'Cu_3.1T_max',\n 'Cu_3.1T_min',\n 'FM_3.2_A',\n 'Cu_3.2C_max',\n 'Cu_3.2C_min',\n 'Ni_3.2C_max',\n 'Ni_3.2C_min',\n 'Cu_3.2T_max',\n 'Cu_3.2T_min',\n 'MEAS_DT']"
     },
     "execution_count": 55,
     "metadata": {},
     "output_type": "execute_result"
    }
   ],
   "source": [
    "col_list[3]"
   ],
   "metadata": {
    "collapsed": false,
    "ExecuteTime": {
     "end_time": "2024-12-06T18:16:33.671895200Z",
     "start_time": "2024-12-06T18:16:33.665032800Z"
    }
   },
   "id": "4be78764f8c1c7cc",
   "execution_count": 55
  },
  {
   "cell_type": "code",
   "outputs": [
    {
     "name": "stderr",
     "output_type": "stream",
     "text": [
      "<>:3: SyntaxWarning: invalid escape sequence '\\.'\n",
      "<>:4: SyntaxWarning: invalid escape sequence '\\.'\n",
      "<>:5: SyntaxWarning: invalid escape sequence '\\.'\n",
      "<>:6: SyntaxWarning: invalid escape sequence '\\.'\n",
      "<>:7: SyntaxWarning: invalid escape sequence '\\.'\n",
      "<>:8: SyntaxWarning: invalid escape sequence '\\.'\n",
      "<>:9: SyntaxWarning: invalid escape sequence '\\.'\n",
      "<>:10: SyntaxWarning: invalid escape sequence '\\.'\n",
      "<>:11: SyntaxWarning: invalid escape sequence '\\.'\n",
      "<>:12: SyntaxWarning: invalid escape sequence '\\.'\n",
      "<>:13: SyntaxWarning: invalid escape sequence '\\.'\n",
      "<>:14: SyntaxWarning: invalid escape sequence '\\.'\n",
      "<>:24: SyntaxWarning: invalid escape sequence '\\.'\n",
      "<>:25: SyntaxWarning: invalid escape sequence '\\.'\n",
      "<>:3: SyntaxWarning: invalid escape sequence '\\.'\n",
      "<>:4: SyntaxWarning: invalid escape sequence '\\.'\n",
      "<>:5: SyntaxWarning: invalid escape sequence '\\.'\n",
      "<>:6: SyntaxWarning: invalid escape sequence '\\.'\n",
      "<>:7: SyntaxWarning: invalid escape sequence '\\.'\n",
      "<>:8: SyntaxWarning: invalid escape sequence '\\.'\n",
      "<>:9: SyntaxWarning: invalid escape sequence '\\.'\n",
      "<>:10: SyntaxWarning: invalid escape sequence '\\.'\n",
      "<>:11: SyntaxWarning: invalid escape sequence '\\.'\n",
      "<>:12: SyntaxWarning: invalid escape sequence '\\.'\n",
      "<>:13: SyntaxWarning: invalid escape sequence '\\.'\n",
      "<>:14: SyntaxWarning: invalid escape sequence '\\.'\n",
      "<>:24: SyntaxWarning: invalid escape sequence '\\.'\n",
      "<>:25: SyntaxWarning: invalid escape sequence '\\.'\n",
      "C:\\Users\\UraSt\\AppData\\Local\\Temp\\ipykernel_11008\\4229343271.py:3: SyntaxWarning: invalid escape sequence '\\.'\n",
      "  \"*1\\.1*\": [],\n",
      "C:\\Users\\UraSt\\AppData\\Local\\Temp\\ipykernel_11008\\4229343271.py:4: SyntaxWarning: invalid escape sequence '\\.'\n",
      "  \"*1\\.2*\": [],\n",
      "C:\\Users\\UraSt\\AppData\\Local\\Temp\\ipykernel_11008\\4229343271.py:5: SyntaxWarning: invalid escape sequence '\\.'\n",
      "  \"*2\\.1*\": [],\n",
      "C:\\Users\\UraSt\\AppData\\Local\\Temp\\ipykernel_11008\\4229343271.py:6: SyntaxWarning: invalid escape sequence '\\.'\n",
      "  \"*2\\.2*\": [],\n",
      "C:\\Users\\UraSt\\AppData\\Local\\Temp\\ipykernel_11008\\4229343271.py:7: SyntaxWarning: invalid escape sequence '\\.'\n",
      "  \"*3\\.1*\": [],\n",
      "C:\\Users\\UraSt\\AppData\\Local\\Temp\\ipykernel_11008\\4229343271.py:8: SyntaxWarning: invalid escape sequence '\\.'\n",
      "  \"*3\\.2*\": [],\n",
      "C:\\Users\\UraSt\\AppData\\Local\\Temp\\ipykernel_11008\\4229343271.py:9: SyntaxWarning: invalid escape sequence '\\.'\n",
      "  \"*4\\.1*\": [],\n",
      "C:\\Users\\UraSt\\AppData\\Local\\Temp\\ipykernel_11008\\4229343271.py:10: SyntaxWarning: invalid escape sequence '\\.'\n",
      "  \"*4\\.2*\": [],\n",
      "C:\\Users\\UraSt\\AppData\\Local\\Temp\\ipykernel_11008\\4229343271.py:11: SyntaxWarning: invalid escape sequence '\\.'\n",
      "  \"*5\\.1*\": [],\n",
      "C:\\Users\\UraSt\\AppData\\Local\\Temp\\ipykernel_11008\\4229343271.py:12: SyntaxWarning: invalid escape sequence '\\.'\n",
      "  \"*5\\.2*\": [],\n",
      "C:\\Users\\UraSt\\AppData\\Local\\Temp\\ipykernel_11008\\4229343271.py:13: SyntaxWarning: invalid escape sequence '\\.'\n",
      "  \"*6\\.1*\": [],\n",
      "C:\\Users\\UraSt\\AppData\\Local\\Temp\\ipykernel_11008\\4229343271.py:14: SyntaxWarning: invalid escape sequence '\\.'\n",
      "  \"*6\\.2*\": [],\n",
      "C:\\Users\\UraSt\\AppData\\Local\\Temp\\ipykernel_11008\\4229343271.py:24: SyntaxWarning: invalid escape sequence '\\.'\n",
      "  case re.match(i, '*1\\.1*'):\n",
      "C:\\Users\\UraSt\\AppData\\Local\\Temp\\ipykernel_11008\\4229343271.py:25: SyntaxWarning: invalid escape sequence '\\.'\n",
      "  mach_list[f'1\\.1'].append(i)\n",
      "C:\\Users\\UraSt\\AppData\\Local\\Temp\\ipykernel_11008\\4229343271.py:3: SyntaxWarning: invalid escape sequence '\\.'\n",
      "  \"*1\\.1*\": [],\n",
      "C:\\Users\\UraSt\\AppData\\Local\\Temp\\ipykernel_11008\\4229343271.py:4: SyntaxWarning: invalid escape sequence '\\.'\n",
      "  \"*1\\.2*\": [],\n",
      "C:\\Users\\UraSt\\AppData\\Local\\Temp\\ipykernel_11008\\4229343271.py:5: SyntaxWarning: invalid escape sequence '\\.'\n",
      "  \"*2\\.1*\": [],\n",
      "C:\\Users\\UraSt\\AppData\\Local\\Temp\\ipykernel_11008\\4229343271.py:6: SyntaxWarning: invalid escape sequence '\\.'\n",
      "  \"*2\\.2*\": [],\n",
      "C:\\Users\\UraSt\\AppData\\Local\\Temp\\ipykernel_11008\\4229343271.py:7: SyntaxWarning: invalid escape sequence '\\.'\n",
      "  \"*3\\.1*\": [],\n",
      "C:\\Users\\UraSt\\AppData\\Local\\Temp\\ipykernel_11008\\4229343271.py:8: SyntaxWarning: invalid escape sequence '\\.'\n",
      "  \"*3\\.2*\": [],\n",
      "C:\\Users\\UraSt\\AppData\\Local\\Temp\\ipykernel_11008\\4229343271.py:9: SyntaxWarning: invalid escape sequence '\\.'\n",
      "  \"*4\\.1*\": [],\n",
      "C:\\Users\\UraSt\\AppData\\Local\\Temp\\ipykernel_11008\\4229343271.py:10: SyntaxWarning: invalid escape sequence '\\.'\n",
      "  \"*4\\.2*\": [],\n",
      "C:\\Users\\UraSt\\AppData\\Local\\Temp\\ipykernel_11008\\4229343271.py:11: SyntaxWarning: invalid escape sequence '\\.'\n",
      "  \"*5\\.1*\": [],\n",
      "C:\\Users\\UraSt\\AppData\\Local\\Temp\\ipykernel_11008\\4229343271.py:12: SyntaxWarning: invalid escape sequence '\\.'\n",
      "  \"*5\\.2*\": [],\n",
      "C:\\Users\\UraSt\\AppData\\Local\\Temp\\ipykernel_11008\\4229343271.py:13: SyntaxWarning: invalid escape sequence '\\.'\n",
      "  \"*6\\.1*\": [],\n",
      "C:\\Users\\UraSt\\AppData\\Local\\Temp\\ipykernel_11008\\4229343271.py:14: SyntaxWarning: invalid escape sequence '\\.'\n",
      "  \"*6\\.2*\": [],\n",
      "C:\\Users\\UraSt\\AppData\\Local\\Temp\\ipykernel_11008\\4229343271.py:24: SyntaxWarning: invalid escape sequence '\\.'\n",
      "  case re.match(i, '*1\\.1*'):\n",
      "C:\\Users\\UraSt\\AppData\\Local\\Temp\\ipykernel_11008\\4229343271.py:25: SyntaxWarning: invalid escape sequence '\\.'\n",
      "  mach_list[f'1\\.1'].append(i)\n"
     ]
    },
    {
     "ename": "TypeError",
     "evalue": "called match pattern must be a class",
     "output_type": "error",
     "traceback": [
      "\u001B[1;31m---------------------------------------------------------------------------\u001B[0m",
      "\u001B[1;31mTypeError\u001B[0m                                 Traceback (most recent call last)",
      "Cell \u001B[1;32mIn[61], line 20\u001B[0m\n\u001B[0;32m     18\u001B[0m \u001B[38;5;28;01mfor\u001B[39;00m i \u001B[38;5;129;01min\u001B[39;00m col_list:\n\u001B[0;32m     19\u001B[0m     \u001B[38;5;28;01mmatch\u001B[39;00m i:\n\u001B[1;32m---> 20\u001B[0m         \u001B[38;5;28;01mcase\u001B[39;00m re\u001B[38;5;241m.\u001B[39mmatch(i, \u001B[38;5;124m'\u001B[39m\u001B[38;5;124m*_A\u001B[39m\u001B[38;5;124m'\u001B[39m):\n\u001B[0;32m     21\u001B[0m             mach_list[\u001B[38;5;124m'\u001B[39m\u001B[38;5;124mA\u001B[39m\u001B[38;5;124m'\u001B[39m]\u001B[38;5;241m.\u001B[39mappend(i)\n\u001B[0;32m     22\u001B[0m         \u001B[38;5;28;01mcase\u001B[39;00m re\u001B[38;5;241m.\u001B[39mmatch(i, \u001B[38;5;124m'\u001B[39m\u001B[38;5;124m*F\u001B[39m\u001B[38;5;124m'\u001B[39m):\n",
      "\u001B[1;31mTypeError\u001B[0m: called match pattern must be a class"
     ]
    }
   ],
   "source": [
    "mach_list = {\"A\": [], \n",
    "             \"F\": [], \n",
    "             \"1.1\": [],\n",
    "             \"1.2\": [],\n",
    "             \"2.1\": [],\n",
    "             \"2.2\": [],\n",
    "             \"3.1\": [],\n",
    "             \"3.2\": [],\n",
    "             \"4.1\": [],\n",
    "             \"4.2\": [],\n",
    "             \"5.1\": [],\n",
    "             \"5.2\": [],\n",
    "             \"6.1\": [],\n",
    "             \"6.2\": [],\n",
    "             }\n",
    "\n",
    "\n",
    "for i in col_list:\n",
    "    match re.match(i, '*_A'):\n",
    "        case i:\n",
    "            mach_list['A'].append(i)\n",
    "        case re.match(i, '*F'):\n",
    "            mach_list['F'].append(i)\n",
    "        case re.match(i, '*1\\.1*'):\n",
    "            mach_list[f'1\\.1'].append(i)\n",
    "        case _:\n",
    "            pass\n",
    "                        \n",
    "mach_list"
   ],
   "metadata": {
    "collapsed": false,
    "ExecuteTime": {
     "end_time": "2024-12-06T18:29:15.446471600Z",
     "start_time": "2024-12-06T18:29:15.429713200Z"
    }
   },
   "id": "a3429c5ff9260d82",
   "execution_count": 61
  },
  {
   "cell_type": "code",
   "outputs": [],
   "source": [],
   "metadata": {
    "collapsed": false
   },
   "id": "5d07ea4d13675c36"
  }
 ],
 "metadata": {
  "kernelspec": {
   "display_name": "Python 3",
   "language": "python",
   "name": "python3"
  },
  "language_info": {
   "codemirror_mode": {
    "name": "ipython",
    "version": 2
   },
   "file_extension": ".py",
   "mimetype": "text/x-python",
   "name": "python",
   "nbconvert_exporter": "python",
   "pygments_lexer": "ipython2",
   "version": "2.7.6"
  }
 },
 "nbformat": 4,
 "nbformat_minor": 5
}
